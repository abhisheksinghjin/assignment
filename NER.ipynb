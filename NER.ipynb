{
 "cells": [
  {
   "cell_type": "code",
   "execution_count": 119,
   "metadata": {},
   "outputs": [],
   "source": [
    "import json\n",
    "import pandas as pd\n",
    "\n",
    "\n",
    "with open(r\"E:\\WORK\\signalmedia-1m.jsonl\\sample-1M.jsonl\",'r+',encoding=\"utf8\") as f:\n",
    "    list1 = list(f)\n",
    "for i in list1:\n",
    "    result = json.loads(i)"
   ]
  },
  {
   "cell_type": "code",
   "execution_count": 120,
   "metadata": {},
   "outputs": [],
   "source": [
    "import ast\n",
    "for i in range(0,len(list1)):\n",
    "    list1[i] = ast.literal_eval(list1[i])\n",
    "   "
   ]
  },
  {
   "cell_type": "code",
   "execution_count": 121,
   "metadata": {},
   "outputs": [],
   "source": [
    "for x in range(0,len(list1)):\n",
    "    list1[x]['content'] = list1[x]['content'].replace(\"\\\\\",\"\")\n",
    "    list1[x]['content'] = list1[x]['content'].replace(\"\\n\",\"\")\n",
    "\n",
    "    \n",
    "\n"
   ]
  },
  {
   "cell_type": "code",
   "execution_count": 135,
   "metadata": {},
   "outputs": [],
   "source": [
    "import pandas as pd \n",
    "cols = ['id', 'content', 'title', 'media-type', 'source', 'published']\n",
    "df = pd.DataFrame(data = list1,columns = cols,index = range(0,len(list1)))"
   ]
  },
  {
   "cell_type": "code",
   "execution_count": 136,
   "metadata": {},
   "outputs": [
    {
     "data": {
      "text/html": [
       "<div>\n",
       "<style scoped>\n",
       "    .dataframe tbody tr th:only-of-type {\n",
       "        vertical-align: middle;\n",
       "    }\n",
       "\n",
       "    .dataframe tbody tr th {\n",
       "        vertical-align: top;\n",
       "    }\n",
       "\n",
       "    .dataframe thead th {\n",
       "        text-align: right;\n",
       "    }\n",
       "</style>\n",
       "<table border=\"1\" class=\"dataframe\">\n",
       "  <thead>\n",
       "    <tr style=\"text-align: right;\">\n",
       "      <th></th>\n",
       "      <th>id</th>\n",
       "      <th>content</th>\n",
       "      <th>title</th>\n",
       "      <th>media-type</th>\n",
       "      <th>source</th>\n",
       "      <th>published</th>\n",
       "    </tr>\n",
       "  </thead>\n",
       "  <tbody>\n",
       "    <tr>\n",
       "      <th>0</th>\n",
       "      <td>f7ca322d-c3e8-40d2-841f-9d7250ac72ca</td>\n",
       "      <td>VETERANS saluted Worcester's first ever breakf...</td>\n",
       "      <td>Worcester breakfast club for veterans gives hu...</td>\n",
       "      <td>News</td>\n",
       "      <td>Redditch Advertiser</td>\n",
       "      <td>2015-09-07T10:16:14Z</td>\n",
       "    </tr>\n",
       "    <tr>\n",
       "      <th>1</th>\n",
       "      <td>609772bc-0672-4db5-8516-4c025cfd54ca</td>\n",
       "      <td>New Product Gives Marketers Access to Real Key...</td>\n",
       "      <td>Jumpshot Gives Marketers Renewed Visibility In...</td>\n",
       "      <td>News</td>\n",
       "      <td>Virtualization Conference &amp; Expo</td>\n",
       "      <td>2015-09-17T15:00:00Z</td>\n",
       "    </tr>\n",
       "    <tr>\n",
       "      <th>2</th>\n",
       "      <td>1aa9d1b0-e6ba-4a48-ad0c-66552d896aac</td>\n",
       "      <td>Home »\\rStyle » The Return Of The Nike Air Max...</td>\n",
       "      <td>The Return Of The Nike Air Max Sensation Has 8...</td>\n",
       "      <td>Blog</td>\n",
       "      <td>Streets Connect</td>\n",
       "      <td>2015-09-22T22:54:37Z</td>\n",
       "    </tr>\n",
       "    <tr>\n",
       "      <th>3</th>\n",
       "      <td>719699f9-47be-4bc7-969b-b53a881c95ae</td>\n",
       "      <td>NYMag.com Daily Intelligencer Vulture The Cut ...</td>\n",
       "      <td>This New Dating App Will Ruin Your Internet Game</td>\n",
       "      <td>Blog</td>\n",
       "      <td>The Cut</td>\n",
       "      <td>2015-09-16T23:12:11Z</td>\n",
       "    </tr>\n",
       "    <tr>\n",
       "      <th>4</th>\n",
       "      <td>a080f99a-07d9-47d1-8244-26a540017b7a</td>\n",
       "      <td>KUALA LUMPUR, Sept 15 (MySinchew) -- The Kuala...</td>\n",
       "      <td>Pay up or face legal action: DBKL</td>\n",
       "      <td>News</td>\n",
       "      <td>My Sinchew</td>\n",
       "      <td>2015-09-15T10:17:53Z</td>\n",
       "    </tr>\n",
       "  </tbody>\n",
       "</table>\n",
       "</div>"
      ],
      "text/plain": [
       "                                     id  \\\n",
       "0  f7ca322d-c3e8-40d2-841f-9d7250ac72ca   \n",
       "1  609772bc-0672-4db5-8516-4c025cfd54ca   \n",
       "2  1aa9d1b0-e6ba-4a48-ad0c-66552d896aac   \n",
       "3  719699f9-47be-4bc7-969b-b53a881c95ae   \n",
       "4  a080f99a-07d9-47d1-8244-26a540017b7a   \n",
       "\n",
       "                                             content  \\\n",
       "0  VETERANS saluted Worcester's first ever breakf...   \n",
       "1  New Product Gives Marketers Access to Real Key...   \n",
       "2  Home »\\rStyle » The Return Of The Nike Air Max...   \n",
       "3  NYMag.com Daily Intelligencer Vulture The Cut ...   \n",
       "4  KUALA LUMPUR, Sept 15 (MySinchew) -- The Kuala...   \n",
       "\n",
       "                                               title media-type  \\\n",
       "0  Worcester breakfast club for veterans gives hu...       News   \n",
       "1  Jumpshot Gives Marketers Renewed Visibility In...       News   \n",
       "2  The Return Of The Nike Air Max Sensation Has 8...       Blog   \n",
       "3   This New Dating App Will Ruin Your Internet Game       Blog   \n",
       "4                  Pay up or face legal action: DBKL       News   \n",
       "\n",
       "                             source             published  \n",
       "0               Redditch Advertiser  2015-09-07T10:16:14Z  \n",
       "1  Virtualization Conference & Expo  2015-09-17T15:00:00Z  \n",
       "2                   Streets Connect  2015-09-22T22:54:37Z  \n",
       "3                           The Cut  2015-09-16T23:12:11Z  \n",
       "4                        My Sinchew  2015-09-15T10:17:53Z  "
      ]
     },
     "execution_count": 136,
     "metadata": {},
     "output_type": "execute_result"
    }
   ],
   "source": [
    "df.head()"
   ]
  },
  {
   "cell_type": "code",
   "execution_count": null,
   "metadata": {},
   "outputs": [],
   "source": []
  }
 ],
 "metadata": {
  "kernelspec": {
   "display_name": "Python 3",
   "language": "python",
   "name": "python3"
  },
  "language_info": {
   "codemirror_mode": {
    "name": "ipython",
    "version": 3
   },
   "file_extension": ".py",
   "mimetype": "text/x-python",
   "name": "python",
   "nbconvert_exporter": "python",
   "pygments_lexer": "ipython3",
   "version": "3.7.6"
  }
 },
 "nbformat": 4,
 "nbformat_minor": 4
}
