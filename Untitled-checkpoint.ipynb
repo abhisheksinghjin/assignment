{
 "cells": [
  {
   "cell_type": "code",
   "execution_count": 1,
   "metadata": {},
   "outputs": [
    {
     "name": "stdout",
     "output_type": "stream",
     "text": [
      "Enter word: BIRDO\n",
      "incorrect typed word, did you mean from the following: \n",
      "['bird', 'bid', 'libido']\n",
      "type the correct word from the list:BIRD\n",
      "['Any of the bipedal, warm-blooded vertebrates that lay eggs having wings which, for most species, enables them to fly.', 'A powered heavier-than-air aircraft with fixed wings that obtains lift by the Bernoulli effect and is used for transportation.', 'Badminton equipment consisting of a ball of cork or rubber with a crown of feathers.']\n"
     ]
    }
   ],
   "source": [
    "import json\n",
    "from difflib import get_close_matches \n",
    "\n",
    "data = json.load(open(r\"C:\\Users\\Administrator\\Downloads\\pydictproblem-master\\pydictproblem-master\\data.json\"))\n",
    " \n",
    "def translate(w):\n",
    "    if w in data:\n",
    "        return data[w]   \n",
    "    else:        \n",
    "        print(\"incorrect typed word, did you mean from the following: \")\n",
    "        print(get_close_matches(w,list(data)))  ## for the close matches of the input word\n",
    "        choose = input(\"type the correct word from the list:\")\n",
    "        return data[choose.lower()]\n",
    "    \n",
    "word = input(\"Enter word: \")  \n",
    "print(translate(word.lower()))"
   ]
  },
  {
   "cell_type": "code",
   "execution_count": null,
   "metadata": {},
   "outputs": [],
   "source": []
  }
 ],
 "metadata": {
  "kernelspec": {
   "display_name": "Python 3",
   "language": "python",
   "name": "python3"
  },
  "language_info": {
   "codemirror_mode": {
    "name": "ipython",
    "version": 3
   },
   "file_extension": ".py",
   "mimetype": "text/x-python",
   "name": "python",
   "nbconvert_exporter": "python",
   "pygments_lexer": "ipython3",
   "version": "3.7.6"
  }
 },
 "nbformat": 4,
 "nbformat_minor": 4
}
